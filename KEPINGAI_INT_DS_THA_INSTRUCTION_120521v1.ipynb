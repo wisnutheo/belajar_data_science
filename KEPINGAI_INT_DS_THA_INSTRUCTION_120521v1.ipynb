{
 "cells": [
  {
   "cell_type": "markdown",
   "metadata": {
    "id": "XzMh2yJliSwk"
   },
   "source": [
    "<img src=\"https://firebasestorage.googleapis.com/v0/b/kepingai.appspot.com/o/keping_logo_filled.png?alt=media&token=9d5538d7-4eeb-4070-b26f-c2603131db23\" width=\"100\" height=\"100\" />\n",
    "\n",
    "# **PT IDABAGUS ENGINEERING INDONESIA (KepingAI)**\n",
    "\n",
    "## **Company Overview:**\n",
    "Congratulations on passing the 2nd recruitment process for the Data Scientist Intern position at Keping AI!\n",
    "\n",
    "PT Idabagus Engineering Indonesia (KepingAI) is an Artificial Intelligence (AI) startup based in Jakarta, Indonesia. Our mission is to democratize AI to many industries in Indonesia. Currently, we are focussing on delivering AI in retail and finance industries. As demand of AI solutions is high right now, we are also providing AI to several global companies. As a potential Data Science Intern, you will get invaluable experience to analyze and improve our AI model. This is your opportunity to showcase your data science skills into a real working product.\n",
    "\n",
    "In this Take-Home Assignments (\"**THA**\"), you are assigned to analyze an AI model that runs our cryptocurrency bot. You will do performance analysis using common metrics, such as accuracy, precision, recall, confusion matrix and others. From these metrics, you are encouraged to provide your analysis on how to improve the model performance.\n",
    "\n",
    "## **Terms and Conditions:**\n",
    "1. Candidate must use dataset attached to the email and/or in this instruction wisely. Candidate are required to maintain the confidentiality of this Take-Home Assignment until the recruitment process is done. Distribution to external party of Take-Home Assignment Instruction and Take-Home Assignment Dataset is strictly prohibited by KepingAI Recruitment Team.\n",
    "2. Our official recruitment process email is from recruiting@kepingai.com. If you receive any kind of communication from email apart from our official email. Please ignore and report such matter to us. The Company is not responsible for any events related to the recruitment process that originate from email other than recruiting@kepingai.com.\n",
    "\n",
    "## **THA DATASET:**\n",
    "**KEPINGAI_INT-DS_THA_DATASET_120521v1.csv**\n",
    "\n",
    "This file is attached in the email. This CSV file contains 2k historical data of KepingAI <code>scalping</code> signal strategies that is recorded since the beginning of April 2021. If you did not received this data within the email, please contact recruiting@kepingai.com.\n",
    "\n",
    "## **Free GPU access Google Colab (Optional):**\n",
    "1. https://colab.research.google.com/ open this link.\n",
    "2. Click the **NEW NOTEBOOK** button.\n",
    "3. Upload **KEPINGAI_INT-DS_THA_NOTEBOOK_120521v1.ipynb** file to Google Colab: File->Upload Notebook.\n",
    "4. Enable GPU runtime: Runtime > Change Runtime Type > Hardware accelerator > GPU > Save.\n",
    "\n",
    "## **What is scalping?**\n",
    "Scalping is a specific trading strategy that follows set of pre-defined algorithmic rules, profiting from market volatility. Usually we targets small profits of 1%-5% but with large number of trades. Combination of small profits and large number of trades result in sizeable accumalative profit at the end. \n",
    "\n",
    "## **What is in this data?**\n",
    "1. Each row of this data represents historical trades. This dataset contains historical trades generated from AI model with 3 columns, such as `trades`, `prediction` and `label`. \n",
    "2. `trades` is an ID that represents a unique trade in the crypto market.\n",
    "3. `prediction` is the model's sigmoid output. You can also think of this column as model's confidence level. Confidence level near 1.0 indicates the model is highly confident in taking the trades. \n",
    "4. `label` is the actual result of the trade (profit or loss). `1.0` indicates a profitable trade and `0.0` is a losing one.\n",
    "\n",
    "## **Your Objective?**\n",
    "1. You are required to do performance analysis using common metrics in data science. \n",
    "2. From these observation, you can outline your thesis on how to improve the model performance. \n",
    "\n",
    "\n",
    "Let's continue!"
   ]
  },
  {
   "cell_type": "markdown",
   "metadata": {
    "id": "2Njn1Gixri5S"
   },
   "source": [
    "## **1. Preparation**\n",
    "Read the data from csv file, you can use **pandas** library to visualize the csv file easily."
   ]
  },
  {
   "cell_type": "code",
   "execution_count": 1,
   "metadata": {
    "id": "HmaFdQxOfvif"
   },
   "outputs": [
    {
     "data": {
      "text/html": [
       "<div>\n",
       "<style scoped>\n",
       "    .dataframe tbody tr th:only-of-type {\n",
       "        vertical-align: middle;\n",
       "    }\n",
       "\n",
       "    .dataframe tbody tr th {\n",
       "        vertical-align: top;\n",
       "    }\n",
       "\n",
       "    .dataframe thead th {\n",
       "        text-align: right;\n",
       "    }\n",
       "</style>\n",
       "<table border=\"1\" class=\"dataframe\">\n",
       "  <thead>\n",
       "    <tr style=\"text-align: right;\">\n",
       "      <th></th>\n",
       "      <th>trade</th>\n",
       "      <th>prediction</th>\n",
       "      <th>label</th>\n",
       "    </tr>\n",
       "  </thead>\n",
       "  <tbody>\n",
       "    <tr>\n",
       "      <th>0</th>\n",
       "      <td>trade_0</td>\n",
       "      <td>0.837522</td>\n",
       "      <td>1.0</td>\n",
       "    </tr>\n",
       "    <tr>\n",
       "      <th>1</th>\n",
       "      <td>trade_1</td>\n",
       "      <td>0.691110</td>\n",
       "      <td>0.0</td>\n",
       "    </tr>\n",
       "    <tr>\n",
       "      <th>2</th>\n",
       "      <td>trade_2</td>\n",
       "      <td>0.892783</td>\n",
       "      <td>1.0</td>\n",
       "    </tr>\n",
       "    <tr>\n",
       "      <th>3</th>\n",
       "      <td>trade_3</td>\n",
       "      <td>0.944666</td>\n",
       "      <td>1.0</td>\n",
       "    </tr>\n",
       "    <tr>\n",
       "      <th>4</th>\n",
       "      <td>trade_4</td>\n",
       "      <td>0.638593</td>\n",
       "      <td>1.0</td>\n",
       "    </tr>\n",
       "    <tr>\n",
       "      <th>...</th>\n",
       "      <td>...</td>\n",
       "      <td>...</td>\n",
       "      <td>...</td>\n",
       "    </tr>\n",
       "    <tr>\n",
       "      <th>1995</th>\n",
       "      <td>trade_1995</td>\n",
       "      <td>0.603576</td>\n",
       "      <td>1.0</td>\n",
       "    </tr>\n",
       "    <tr>\n",
       "      <th>1996</th>\n",
       "      <td>trade_1996</td>\n",
       "      <td>0.889247</td>\n",
       "      <td>1.0</td>\n",
       "    </tr>\n",
       "    <tr>\n",
       "      <th>1997</th>\n",
       "      <td>trade_1997</td>\n",
       "      <td>0.674640</td>\n",
       "      <td>0.0</td>\n",
       "    </tr>\n",
       "    <tr>\n",
       "      <th>1998</th>\n",
       "      <td>trade_1998</td>\n",
       "      <td>0.485074</td>\n",
       "      <td>0.0</td>\n",
       "    </tr>\n",
       "    <tr>\n",
       "      <th>1999</th>\n",
       "      <td>trade_1999</td>\n",
       "      <td>1.000000</td>\n",
       "      <td>1.0</td>\n",
       "    </tr>\n",
       "  </tbody>\n",
       "</table>\n",
       "<p>2000 rows × 3 columns</p>\n",
       "</div>"
      ],
      "text/plain": [
       "           trade  prediction  label\n",
       "0        trade_0    0.837522    1.0\n",
       "1        trade_1    0.691110    0.0\n",
       "2        trade_2    0.892783    1.0\n",
       "3        trade_3    0.944666    1.0\n",
       "4        trade_4    0.638593    1.0\n",
       "...          ...         ...    ...\n",
       "1995  trade_1995    0.603576    1.0\n",
       "1996  trade_1996    0.889247    1.0\n",
       "1997  trade_1997    0.674640    0.0\n",
       "1998  trade_1998    0.485074    0.0\n",
       "1999  trade_1999    1.000000    1.0\n",
       "\n",
       "[2000 rows x 3 columns]"
      ]
     },
     "execution_count": 1,
     "metadata": {},
     "output_type": "execute_result"
    }
   ],
   "source": [
    "# Import the module\n",
    "import numpy as np\n",
    "import pandas as pd\n",
    "import matplotlib.pyplot as plt\n",
    "import seaborn as sns\n",
    "\n",
    "%matplotlib inline\n",
    "\n",
    "# Import the dataset to dataframe\n",
    "df = pd.read_csv('./KEPINGAI_INT-DS_THA_DATASET_120521v1.csv' )\n",
    "\n",
    "# Clean the dataset from unused column\n",
    "df.drop(columns=['Unnamed: 0'],inplace=True)\n",
    "\n",
    "df"
   ]
  },
  {
   "cell_type": "code",
   "execution_count": 2,
   "metadata": {},
   "outputs": [
    {
     "data": {
      "text/plain": [
       "trade         0\n",
       "prediction    0\n",
       "label         0\n",
       "dtype: int64"
      ]
     },
     "execution_count": 2,
     "metadata": {},
     "output_type": "execute_result"
    }
   ],
   "source": [
    "# Check if there any null value\n",
    "df.isnull().sum()\n",
    "\n",
    "# Since there aren't any missing value, then the dataset is good to be used"
   ]
  },
  {
   "cell_type": "code",
   "execution_count": 3,
   "metadata": {},
   "outputs": [
    {
     "data": {
      "text/plain": [
       "<matplotlib.axes._subplots.AxesSubplot at 0x28cd2180bc8>"
      ]
     },
     "execution_count": 3,
     "metadata": {},
     "output_type": "execute_result"
    },
    {
     "data": {
      "image/png": "[encoded data removed]",
      "text/plain": [
       "<Figure size 432x288 with 1 Axes>"
      ]
     },
     "metadata": {
      "needs_background": "light"
     },
     "output_type": "display_data"
    }
   ],
   "source": [
    "# Visualisation of label value distribution \n",
    "df['label'].value_counts().plot(kind='bar')"
   ]
  },
  {
   "cell_type": "markdown",
   "metadata": {
    "id": "I5XvIezHzqCO"
   },
   "source": [
    "As you can see, there are three columns in our csv dataset.\n",
    "1. `trades` represents a single trade ID. Think of a trade that you buy Bitcoin, it goes up in price and you sell it with a nice profit. \n",
    "2. `prediction` is prediction from the AI model whether to take the trade or not. We want the model to take a profitable trade and avoid a losing one. This column contains values ranging from `0.0` to `1.0`. Think of this as confidence level of the AI model. If you want to know more about confidence level, refer to this [article](https://towardsdatascience.com/how-to-use-confidence-scores-in-machine-learning-models-abe9773306fa).\n",
    "3. `label` is the actual result of a trade. `1.0` indicates a profitable trade and `0.0` is a losing one. Note that this is binary as we only have either a profitable trade or a losing one.\n",
    "\n",
    "The idea is we want the model to have output close to the label. In this task, you do not have to build the AI model. But, you are encouraged to optimize current model to have closer output to the label."
   ]
  },
  {
   "cell_type": "markdown",
   "metadata": {
    "id": "EVdabmk71BzA"
   },
   "source": [
    "## **2. Model Action**\n",
    "First thing first, we want our model to output `1.0` and `0.0` in real application. In this case, `1.0` means we can take the trade as it is profitable. And we will not take a trade with the model outputs `0.0` as it is a losing one.\n",
    "\n",
    "However, in our dataset the model have output (column `prediction`) in form of confidence level, a float ranging from `0.0` to `1.0`. The easiest way to convert this confidence level to binary `0.0` and `1.0` is to use threshold. Let say we have threshold `0.5`. If confidence level is higher than `0.5` threshold, it means the model output `1.0`, which indicates a profitable trade. If it falls below `0.5` threhold, then the model output `0.0`, not to take the trade.\n",
    "\n",
    "**Task #1 : Create a new column in the dataset named `action`. This columns must contains the model action of whether to take the trade or not based on its prediction confidence level.**"
   ]
  },
  {
   "cell_type": "code",
   "execution_count": 4,
   "metadata": {
    "id": "7ry2Z2XB3ad0"
   },
   "outputs": [
    {
     "data": {
      "text/html": [
       "<div>\n",
       "<style scoped>\n",
       "    .dataframe tbody tr th:only-of-type {\n",
       "        vertical-align: middle;\n",
       "    }\n",
       "\n",
       "    .dataframe tbody tr th {\n",
       "        vertical-align: top;\n",
       "    }\n",
       "\n",
       "    .dataframe thead th {\n",
       "        text-align: right;\n",
       "    }\n",
       "</style>\n",
       "<table border=\"1\" class=\"dataframe\">\n",
       "  <thead>\n",
       "    <tr style=\"text-align: right;\">\n",
       "      <th></th>\n",
       "      <th>trade</th>\n",
       "      <th>prediction</th>\n",
       "      <th>label</th>\n",
       "      <th>action</th>\n",
       "    </tr>\n",
       "  </thead>\n",
       "  <tbody>\n",
       "    <tr>\n",
       "      <th>0</th>\n",
       "      <td>trade_0</td>\n",
       "      <td>0.837522</td>\n",
       "      <td>1.0</td>\n",
       "      <td>1.0</td>\n",
       "    </tr>\n",
       "    <tr>\n",
       "      <th>1</th>\n",
       "      <td>trade_1</td>\n",
       "      <td>0.691110</td>\n",
       "      <td>0.0</td>\n",
       "      <td>1.0</td>\n",
       "    </tr>\n",
       "    <tr>\n",
       "      <th>2</th>\n",
       "      <td>trade_2</td>\n",
       "      <td>0.892783</td>\n",
       "      <td>1.0</td>\n",
       "      <td>1.0</td>\n",
       "    </tr>\n",
       "    <tr>\n",
       "      <th>3</th>\n",
       "      <td>trade_3</td>\n",
       "      <td>0.944666</td>\n",
       "      <td>1.0</td>\n",
       "      <td>1.0</td>\n",
       "    </tr>\n",
       "    <tr>\n",
       "      <th>4</th>\n",
       "      <td>trade_4</td>\n",
       "      <td>0.638593</td>\n",
       "      <td>1.0</td>\n",
       "      <td>1.0</td>\n",
       "    </tr>\n",
       "  </tbody>\n",
       "</table>\n",
       "</div>"
      ],
      "text/plain": [
       "     trade  prediction  label  action\n",
       "0  trade_0    0.837522    1.0     1.0\n",
       "1  trade_1    0.691110    0.0     1.0\n",
       "2  trade_2    0.892783    1.0     1.0\n",
       "3  trade_3    0.944666    1.0     1.0\n",
       "4  trade_4    0.638593    1.0     1.0"
      ]
     },
     "execution_count": 4,
     "metadata": {},
     "output_type": "execute_result"
    }
   ],
   "source": [
    "# Set the threshold\n",
    "threshold = 0.5\n",
    "\n",
    "# Make a new column based on the threshold condition\n",
    "\n",
    "# The value is make to match 'label' column\n",
    "# The profitable is 1.0\n",
    "# The losing one is 0.0\n",
    "df['action'] = np.where(df['prediction']>= threshold, 1.0, 0.0)\n",
    "df.head()"
   ]
  },
  {
   "cell_type": "markdown",
   "metadata": {
    "id": "YdwJTDXV5Rvm"
   },
   "source": [
    "## **3. Evaluate The Model Performance**\n",
    "Now you have a model that can predict whether a specic trade is profitable or not. But, we do not know if the model is good enough in doing this prediction. Accuracy, precision, recall and F1 score are common metrics used to evaluate model performance.\n",
    "\n",
    "**Task #2 : Calculate these 4 metrics along with the confusion matrix. If you have others metrics, feel free to provide them in this task. Use `0.5` threshold.**"
   ]
  },
  {
   "cell_type": "code",
   "execution_count": 5,
   "metadata": {
    "id": "CergMmVY52e_"
   },
   "outputs": [
    {
     "name": "stdout",
     "output_type": "stream",
     "text": [
      "Accuracy is 0.5\n",
      "Precision is 0.57\n",
      "Recall is 0.72\n",
      "F1 Score is 0.64\n"
     ]
    }
   ],
   "source": [
    "# To analyze the dataset, it's better to used a copy of it so the main dataset could be used again\n",
    "# In this matter, I used df1 as a copy of df\n",
    "df1 = df\n",
    "\n",
    "# Finding True Positive, True Negative, False Positive, and False Negative\n",
    "trueP = 0 # True Positive\n",
    "falseP = 0 # False Positive\n",
    "falseN = 0 # False Negative\n",
    "trueN = 0 # True Negative\n",
    "\n",
    "# In TASK 1, column 'action' made using threshold of 0.5\n",
    "# So, we could use column 'action' in this dataset with threshold 0.5\n",
    "for x in range(0,df1.shape[0]):\n",
    "    if df1['action'][x] == 1:\n",
    "        if df1['action'][x] == df1['label'][x]:\n",
    "            trueP = trueP+1\n",
    "        elif df1['action'][x] != df1['label'][x]:\n",
    "            falseN = falseN+1\n",
    "    elif df1['action'][x] == 0:\n",
    "        if df1['action'][x] == df1['label'][x]:\n",
    "            falseP = falseP+1\n",
    "        elif df1['action'][x] != df1['label'][x]:\n",
    "            trueN = trueN+1\n",
    "\n",
    "# Sum up all the variable as total\n",
    "total = trueP + falseP + trueN + falseN\n",
    "\n",
    "# Finding all 4 metrics: Accuracy, Precision, Recall, and F1 Score\n",
    "\n",
    "# Accuracy = ( True Postive + True Negative ) / Total\n",
    "accuracy = (trueP + trueN)/total\n",
    "\n",
    "# Precision = True Positive / (True Positive + False Positive)\n",
    "# it rounded to 2 decimal\n",
    "precision = trueP/(trueP+falseP)\n",
    "precision = round(precision,2)\n",
    "\n",
    "# Recall = True Positive / (True Positive + False Negative)\n",
    "recall = trueP/(trueP+falseN)\n",
    "recall = round(recall,2)\n",
    "\n",
    "# F1score = 2*(Recall * Precision) / (Recall + Precision)\n",
    "F1score = 2*(recall * precision) / (recall + precision)\n",
    "F1score = round(F1score,2)\n",
    "\n",
    "# Print all metrics value\n",
    "print('Accuracy is ' + str(accuracy))\n",
    "print('Precision is '+ str(precision))\n",
    "print('Recall is '+ str(recall))\n",
    "print('F1 Score is '+ str(F1score))"
   ]
  },
  {
   "cell_type": "markdown",
   "metadata": {
    "id": "3rGfMD2D5nzb"
   },
   "source": [
    "Now, you have the 4 metrics and the confusion matrix. From this observations, please outline your thesis on model performance. Is a good enough model or not?\n",
    "\n",
    "**Answer**\n",
    "\n",
    "From the metrics above, we could see that this model has good Recall, above 70%. However, the accuracy, precision, F1 Score pretty low, below 70%. This means that this model most likely has huge gap between Precision and Recall, and it means that most likely this model could represent the correct answer but didn't have many True Positive answer."
   ]
  },
  {
   "cell_type": "markdown",
   "metadata": {
    "id": "n2E2w5iJ58vu"
   },
   "source": [
    "## **4. Tweak The Threshold**\n",
    "You may be thinking. It is possible to improve the model by changing the threshold. This is common in machine learning practices where we tweak the threshold to have a better performing model. \n",
    "\n",
    "In this section, you are required to plot a line chart that pictures the model performance respective to the threshold. The x-axis of your chart is for threshold ranging from `0.0` to `1.0` and the y-axis is for accuracy, precision, recall, and F1 score. As we have these 4 metrics for y-axis, we would have 4 lines in the chart.\n",
    "\n",
    "**Task #3 : Create metrics vs threshold line chart.**"
   ]
  },
  {
   "cell_type": "code",
   "execution_count": 6,
   "metadata": {
    "id": "teyZirFr7er5"
   },
   "outputs": [
    {
     "data": {
      "text/plain": [
       "Text(0.5, 1.0, 'Metric vs Threshold')"
      ]
     },
     "execution_count": 6,
     "metadata": {},
     "output_type": "execute_result"
    },
    {
     "data": {
      "image/png": "[encoded data removed]",
      "text/plain": [
       "<Figure size 1080x576 with 1 Axes>"
      ]
     },
     "metadata": {
      "needs_background": "light"
     },
     "output_type": "display_data"
    }
   ],
   "source": [
    "# Make all necessary list\n",
    "# cp is list of point of contact between each metrics line\n",
    "cp=[]\n",
    "\n",
    "# List below needed for saving the metrics value\n",
    "accuracy = []\n",
    "precision = []\n",
    "recall = []\n",
    "F1score = []\n",
    "\n",
    "tp = []\n",
    "fp = []\n",
    "fn = []\n",
    "tn = []\n",
    "ck = []\n",
    "\n",
    "# Step is the difference value between each threshold tested\n",
    "# In this case, the threshold used between 0 to 1, so the step I choose is 0.01 to make enough number of data\n",
    "step = 0.01\n",
    "\n",
    "# Finding all metrics value for all threshold\n",
    "for i in np.arange(0, 1, step):\n",
    "    df1['action'] = np.where(df1['prediction']>= i, 1, 0)\n",
    "    \n",
    "    trueP = 0\n",
    "    falseP = 0\n",
    "    falseN = 0\n",
    "    trueN = 0\n",
    "\n",
    "    for x in range(0,df1.shape[0]):\n",
    "        if df1['action'][x] == 1:\n",
    "            if df1['action'][x] == df1['label'][x]:\n",
    "                trueP = trueP+1\n",
    "            elif df1['action'][x] != df1['label'][x]:\n",
    "                falseN = falseN+1\n",
    "        elif df1['action'][x] == 0:\n",
    "            if df1['action'][x] == df1['label'][x]:\n",
    "                falseP = falseP+1\n",
    "            elif df1['action'][x] != df1['label'][x]:\n",
    "                trueN = trueN+1\n",
    "    \n",
    "    cek = trueP + falseP + trueN + falseN \n",
    "    ck.append(cek)\n",
    "    \n",
    "    tp.append(trueP)\n",
    "    fp.append(falseP)\n",
    "    fn.append(falseN)\n",
    "    tn.append(trueN)\n",
    "    \n",
    "    acc = (trueP + trueN)/cek\n",
    "    accuracy.append(acc)\n",
    "    \n",
    "    prec = trueP/(trueP+falseP)\n",
    "    prec = round(prec,2)\n",
    "    precision.append(prec)\n",
    "    \n",
    "    rec = trueP/(trueP+falseN)\n",
    "    rec = round(rec,2)\n",
    "    recall.append(rec)\n",
    "    \n",
    "    F1sc = 2*(rec * prec) / (rec + prec)\n",
    "    F1sc = round(F1sc,2)\n",
    "    F1score.append(F1sc)\n",
    "    \n",
    "    if prec == rec or prec == F1sc or rec == F1sc:\n",
    "        cp.append(i)\n",
    "\n",
    "# Make new dataframe from every metrics\n",
    "dfn = pd.DataFrame({'Step':np.arange(0, 1, step),'Accuracy':accuracy,'Precision':precision,'Recall':recall,'F1Score':F1score})\n",
    "dfn = dfn.set_index('Step')\n",
    "\n",
    "# Make the plot of every metrics\n",
    "plt.rcParams[\"figure.figsize\"] = (15,8)\n",
    "\n",
    "plt.plot(dfn.index, dfn['Accuracy'], label=dfn.columns[0])\n",
    "plt.plot(dfn.index, dfn['Precision'], label=dfn.columns[1])\n",
    "plt.plot(dfn.index, dfn['Recall'], label=dfn.columns[2])\n",
    "plt.plot(dfn.index, dfn['F1Score'], label=dfn.columns[3])\n",
    "\n",
    "plt.legend()\n",
    "\n",
    "plt.xlabel('Threshold',size = 15)\n",
    "plt.ylabel('Score',size = 15)\n",
    "plt.title('Metric vs Threshold',size = 15)"
   ]
  },
  {
   "cell_type": "markdown",
   "metadata": {
    "id": "p51GCDD27jKt"
   },
   "source": [
    "Now you have a chart showing the model's behavior respective to the threshold. What do you see from this chart? How the relationship between precision and recall? Outline the behavior of the model.\n",
    "\n",
    "**Answer**\n",
    "\n",
    "From the chart above, it shows that at low threshold, Precision usually has higher value than Recall, however at higher threshold, Recall has higher value than Precision. In other hand, F1 Score and accuracy has tendency to have similar value, however after 0.4 Threshold, F1 Score value drop. The drop of F1 Score value means this model bad for use in higher threshold.\n"
   ]
  },
  {
   "cell_type": "markdown",
   "metadata": {
    "id": "jkGQZ39o8JBN"
   },
   "source": [
    "Now you understand the behavior of the model. If you are asked to determine one threshold for the model to operate, what would be the threshold? Please outline the reason you choose the threshold.\n",
    "\n",
    "**Answer**\n",
    "\n",
    "To choose the best threshold, it's better at 0.4 threshold. Because at that point Precision, Recall, and F1 Score have similar value. At that point also it the edge of F1 Score value that didn't start dropping. "
   ]
  },
  {
   "cell_type": "markdown",
   "metadata": {
    "id": "_aKWOeOCGDuq"
   },
   "source": [
    "## **5. Measure The Intinsic Performance of The Model**\n",
    "Now, we know that the model can have different performances on different thresholds. But, we still do not know whether the model itself is actually good or not. One of common metrics to evaluate the model irrespective of the threshold is to use ROC-AUC Curve. \n",
    "\n",
    "**Task #4 : Plot the ROC Curve and calculate the AUC values of the model.**"
   ]
  },
  {
   "cell_type": "code",
   "execution_count": 8,
   "metadata": {
    "id": "r22aUwrg85ls"
   },
   "outputs": [
    {
     "data": {
      "text/plain": [
       "<matplotlib.axes._subplots.AxesSubplot at 0x28cd23de3c8>"
      ]
     },
     "execution_count": 8,
     "metadata": {},
     "output_type": "execute_result"
    },
    {
     "data": {
      "image/png": "[encoded data removed]",
      "text/plain": [
       "<Figure size 1080x576 with 1 Axes>"
      ]
     },
     "metadata": {
      "needs_background": "light"
     },
     "output_type": "display_data"
    }
   ],
   "source": [
    "dfs = pd.DataFrame({'Step':np.arange(0, 1, step),'True Positive':tp,'True Negative':tn,'False Positive':fp,'False Negative':fn})\n",
    "dfs = dfs.set_index('Step')\n",
    "\n",
    "# Finding TPR & FPR \n",
    "tpr=[] # List of TPR\n",
    "fpr=[] # List of FPR\n",
    "x_ax=[] # List of 1-FPR\n",
    "\n",
    "# It need to be -1 because in \n",
    "for x in range(0,dfs.shape[0]-1):\n",
    "    i=x+1\n",
    "    \n",
    "    # TPR = True Positive / ( True Positive + False Negative)\n",
    "    tpr.append(tp[i]/(tp[i]+fn[i]))\n",
    "    \n",
    "    # FPR = False Positive / (False Positive + True Negative)\n",
    "    fpr.append(fp[i]/(fp[i]+tn[i]))\n",
    "    \n",
    "    # 1-FPR\n",
    "    x_ax.append(round(1-fpr[x],2))\n",
    "    \n",
    "# For finding ROC-AUC it's better to used another dataset\n",
    "dfa = pd.DataFrame({'TPR':tpr,'FPR':fpr,'1-FPR':x_ax})\n",
    "\n",
    "# Set 1-FPR as an index, so when plot 1-FPR will be x axis\n",
    "dfa = dfa.set_index('1-FPR')\n",
    "\n",
    "# Plot the ROC\n",
    "dfa['TPR'].plot(kind='line')"
   ]
  },
  {
   "cell_type": "markdown",
   "metadata": {
    "id": "G1LrGZ-m883v"
   },
   "source": [
    "What information do you get from these metrics? Do we have to improve the model? Outline you reason if it needs some improvement and what would it be.\n",
    "\n",
    "**Answer**\n",
    "\n",
    "=== Write your answer here. Double click to edit ===\n",
    "\n"
   ]
  },
  {
   "cell_type": "code",
   "execution_count": null,
   "metadata": {
    "id": "E7AWBdxPfy2c"
   },
   "outputs": [],
   "source": []
  }
 ],
 "metadata": {
  "colab": {
   "collapsed_sections": [],
   "name": "KEPINGAI_INT-DS_THA_NOTEBOOK_120521v1.ipynb",
   "provenance": []
  },
  "kernelspec": {
   "display_name": "Python 3",
   "language": "python",
   "name": "python3"
  },
  "language_info": {
   "codemirror_mode": {
    "name": "ipython",
    "version": 3
   },
   "file_extension": ".py",
   "mimetype": "text/x-python",
   "name": "python",
   "nbconvert_exporter": "python",
   "pygments_lexer": "ipython3",
   "version": "3.7.6"
  }
 },
 "nbformat": 4,
 "nbformat_minor": 1
}
